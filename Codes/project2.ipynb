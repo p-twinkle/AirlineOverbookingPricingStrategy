{
 "cells": [
  {
   "cell_type": "code",
   "execution_count": 8,
   "metadata": {},
   "outputs": [],
   "source": [
    "import numpy as np\n",
    "import scipy"
   ]
  },
  {
   "cell_type": "code",
   "execution_count": 10,
   "metadata": {},
   "outputs": [],
   "source": [
    "\n",
    "# Time horizon: 365 days until departure\n",
    "days = 3\n",
    "# Seat capacities and overbooking settings\n",
    "coach_seats = 100\n",
    "first_class_seats = 20\n",
    "# Coach oversold variable; 5 extra seats\n",
    "overbook_limit = 5\n",
    "# Show-up probabilities\n",
    "coach_show_prob = 0.95\n",
    "first_class_show_prob = 0.97\n",
    "# Ticket prices and sale probabilities (for coach and first-class)\n",
    "coach_prices = [300, 350]\n",
    "first_class_prices = [425, 500]\n",
    "# Sale probabilities when tickets are offered at these prices\n",
    "coach_prob = {300: 0.65, 350: 0.30}\n",
    "first_class_prob = {425: 0.08, 500: 0.04}\n",
    "# Note: When first-class is sold out, the coach sale probability increases:\n",
    "# $300 ticket: 65% -> 68%, $350 ticket: 30% -> 33%\n",
    "# Bumping costs for coach passengers:\n",
    "# $50 to bump to first-class and $425 to bump off the plane.\n",
    "bump_cost_first_class = 50\n",
    "bump_cost_off = 425\n",
    "# Discounting: annual rate 17% so the daily discount factor is:\n",
    "daily_discount = 1 / (1 + 0.17 / 365)"
   ]
  },
  {
   "cell_type": "code",
   "execution_count": 11,
   "metadata": {},
   "outputs": [],
   "source": [
    "V = np.zeros((days + 1, coach_seats + overbook_limit + 1, first_class_seats + 1))"
   ]
  },
  {
   "cell_type": "code",
   "execution_count": 12,
   "metadata": {},
   "outputs": [],
   "source": [
    "U = np.zeros((days + 1, coach_seats + overbook_limit + 1, first_class_seats + 1)) "
   ]
  },
  {
   "cell_type": "markdown",
   "metadata": {},
   "source": [
    "## Terminal Condition"
   ]
  },
  {
   "cell_type": "code",
   "execution_count": 15,
   "metadata": {},
   "outputs": [
    {
     "ename": "KeyboardInterrupt",
     "evalue": "",
     "output_type": "error",
     "traceback": [
      "\u001b[0;31m---------------------------------------------------------------------------\u001b[0m",
      "\u001b[0;31mKeyboardInterrupt\u001b[0m                         Traceback (most recent call last)",
      "Cell \u001b[0;32mIn[15], line 15\u001b[0m\n\u001b[1;32m     12\u001b[0m \u001b[38;5;28;01melse\u001b[39;00m:\n\u001b[1;32m     13\u001b[0m     cost \u001b[38;5;241m=\u001b[39m \u001b[38;5;241m0\u001b[39m\n\u001b[0;32m---> 15\u001b[0m binomial_prob_coach \u001b[38;5;241m=\u001b[39m scipy\u001b[38;5;241m.\u001b[39mstats\u001b[38;5;241m.\u001b[39mbinom\u001b[38;5;241m.\u001b[39mpmf(i, k, coach_show_prob)\n\u001b[1;32m     16\u001b[0m binomial_prob_first \u001b[38;5;241m=\u001b[39m scipy\u001b[38;5;241m.\u001b[39mstats\u001b[38;5;241m.\u001b[39mbinom\u001b[38;5;241m.\u001b[39mpmf(j, l, first_class_show_prob)\n\u001b[1;32m     17\u001b[0m summation \u001b[38;5;241m+\u001b[39m\u001b[38;5;241m=\u001b[39m binomial_prob_coach \u001b[38;5;241m*\u001b[39m binomial_prob_first \u001b[38;5;241m*\u001b[39m cost\n",
      "File \u001b[0;32m/opt/anaconda3/lib/python3.12/site-packages/scipy/stats/_distn_infrastructure.py:3420\u001b[0m, in \u001b[0;36mrv_discrete.pmf\u001b[0;34m(self, k, *args, **kwds)\u001b[0m\n\u001b[1;32m   3418\u001b[0m cond1 \u001b[38;5;241m=\u001b[39m (k \u001b[38;5;241m>\u001b[39m\u001b[38;5;241m=\u001b[39m _a) \u001b[38;5;241m&\u001b[39m (k \u001b[38;5;241m<\u001b[39m\u001b[38;5;241m=\u001b[39m _b)\n\u001b[1;32m   3419\u001b[0m \u001b[38;5;28;01mif\u001b[39;00m \u001b[38;5;129;01mnot\u001b[39;00m \u001b[38;5;28misinstance\u001b[39m(\u001b[38;5;28mself\u001b[39m, rv_sample):\n\u001b[0;32m-> 3420\u001b[0m     cond1 \u001b[38;5;241m=\u001b[39m cond1 \u001b[38;5;241m&\u001b[39m \u001b[38;5;28mself\u001b[39m\u001b[38;5;241m.\u001b[39m_nonzero(k, \u001b[38;5;241m*\u001b[39margs)\n\u001b[1;32m   3421\u001b[0m cond \u001b[38;5;241m=\u001b[39m cond0 \u001b[38;5;241m&\u001b[39m cond1\n\u001b[1;32m   3422\u001b[0m output \u001b[38;5;241m=\u001b[39m zeros(shape(cond), \u001b[38;5;124m'\u001b[39m\u001b[38;5;124md\u001b[39m\u001b[38;5;124m'\u001b[39m)\n",
      "File \u001b[0;32m/opt/anaconda3/lib/python3.12/site-packages/scipy/stats/_distn_infrastructure.py:3326\u001b[0m, in \u001b[0;36mrv_discrete._nonzero\u001b[0;34m(self, k, *args)\u001b[0m\n\u001b[1;32m   3323\u001b[0m     dct[\u001b[38;5;124m'\u001b[39m\u001b[38;5;124mshapes\u001b[39m\u001b[38;5;124m'\u001b[39m] \u001b[38;5;241m=\u001b[39m \u001b[38;5;28mself\u001b[39m\u001b[38;5;241m.\u001b[39mshapes\n\u001b[1;32m   3324\u001b[0m     \u001b[38;5;28;01mreturn\u001b[39;00m dct\n\u001b[0;32m-> 3326\u001b[0m \u001b[38;5;28;01mdef\u001b[39;00m \u001b[38;5;21m_nonzero\u001b[39m(\u001b[38;5;28mself\u001b[39m, k, \u001b[38;5;241m*\u001b[39margs):\n\u001b[1;32m   3327\u001b[0m     \u001b[38;5;28;01mreturn\u001b[39;00m floor(k) \u001b[38;5;241m==\u001b[39m k\n\u001b[1;32m   3329\u001b[0m \u001b[38;5;28;01mdef\u001b[39;00m \u001b[38;5;21m_pmf\u001b[39m(\u001b[38;5;28mself\u001b[39m, k, \u001b[38;5;241m*\u001b[39margs):\n",
      "\u001b[0;31mKeyboardInterrupt\u001b[0m: "
     ]
    }
   ],
   "source": [
    "for i in range(coach_seats + overbook_limit + 1): #coach seats sold\n",
    "    for j in range(first_class_seats + 1): #first class seats sold\n",
    "        for k in range(coach_seats + overbook_limit + 1): #number of people in coach who showed up at the airport\n",
    "            for l in range(first_class_seats + 1): #number of people in first class who showed up at the airport\n",
    "                summation = 0\n",
    "                if k >= coach_seats and l <= first_class_seats: # room to bump to first class\n",
    "                    number_to_bump_to_first = min(k - coach_seats, first_class_seats - l)\n",
    "                    cost =  bump_cost_first_class * number_to_bump_to_first\n",
    "                elif k >= coach_seats and l == first_class_seats: # have to bump off the plane\n",
    "                    number_to_bump_off = k - coach_seats\n",
    "                    cost = bump_cost_off * number_to_bump_off\n",
    "                else:\n",
    "                    cost = 0\n",
    "                \n",
    "                binomial_prob_coach = scipy.stats.binom.pmf(i, k, coach_show_prob)\n",
    "                binomial_prob_first = scipy.stats.binom.pmf(j, l, first_class_show_prob)\n",
    "                summation += binomial_prob_coach * binomial_prob_first * cost\n",
    "        \n",
    "                V[days][k][l] = summation\n",
    "\n",
    "\n",
    "\n",
    "\n",
    "#scipy.stats.binom.pmf"
   ]
  }
 ],
 "metadata": {
  "kernelspec": {
   "display_name": "base",
   "language": "python",
   "name": "python3"
  },
  "language_info": {
   "codemirror_mode": {
    "name": "ipython",
    "version": 3
   },
   "file_extension": ".py",
   "mimetype": "text/x-python",
   "name": "python",
   "nbconvert_exporter": "python",
   "pygments_lexer": "ipython3",
   "version": "3.12.2"
  }
 },
 "nbformat": 4,
 "nbformat_minor": 2
}
